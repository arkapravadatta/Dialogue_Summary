{
  "cells": [
    {
      "cell_type": "markdown",
      "metadata": {
        "id": "IPj5JHiaKO8d"
      },
      "source": [
        "# 1. Install required packages"
      ]
    },
    {
      "cell_type": "code",
      "execution_count": 1,
      "metadata": {
        "ExecuteTime": {
          "end_time": "2025-03-06T15:40:43.067679Z",
          "start_time": "2025-03-06T15:40:30.701320Z"
        },
        "colab": {
          "base_uri": "https://localhost:8080/"
        },
        "id": "Xq5DPvXDKO8e",
        "outputId": "d937f089-d0a7-4875-fc80-d4b5b7666e27"
      },
      "outputs": [
        {
          "name": "stdout",
          "output_type": "stream",
          "text": [
            "Requirement already satisfied: tensorflow in c:\\users\\user\\documents\\python\\arkav\\lib\\site-packages (2.19.0)\n",
            "Requirement already satisfied: transformers in c:\\users\\user\\documents\\python\\arkav\\lib\\site-packages (4.51.3)\n",
            "Requirement already satisfied: rouge_score in c:\\users\\user\\documents\\python\\arkav\\lib\\site-packages (0.1.2)\n",
            "Requirement already satisfied: pandas in c:\\users\\user\\documents\\python\\arkav\\lib\\site-packages (2.2.3)\n",
            "Requirement already satisfied: numpy in c:\\users\\user\\documents\\python\\arkav\\lib\\site-packages (2.1.3)\n",
            "Requirement already satisfied: scikit-learn in c:\\users\\user\\documents\\python\\arkav\\lib\\site-packages (1.6.1)\n",
            "Requirement already satisfied: absl-py>=1.0.0 in c:\\users\\user\\documents\\python\\arkav\\lib\\site-packages (from tensorflow) (2.2.2)\n",
            "Requirement already satisfied: astunparse>=1.6.0 in c:\\users\\user\\documents\\python\\arkav\\lib\\site-packages (from tensorflow) (1.6.3)\n",
            "Requirement already satisfied: flatbuffers>=24.3.25 in c:\\users\\user\\documents\\python\\arkav\\lib\\site-packages (from tensorflow) (25.2.10)\n",
            "Requirement already satisfied: gast!=0.5.0,!=0.5.1,!=0.5.2,>=0.2.1 in c:\\users\\user\\documents\\python\\arkav\\lib\\site-packages (from tensorflow) (0.6.0)\n",
            "Requirement already satisfied: google-pasta>=0.1.1 in c:\\users\\user\\documents\\python\\arkav\\lib\\site-packages (from tensorflow) (0.2.0)\n",
            "Requirement already satisfied: libclang>=13.0.0 in c:\\users\\user\\documents\\python\\arkav\\lib\\site-packages (from tensorflow) (18.1.1)\n",
            "Requirement already satisfied: opt-einsum>=2.3.2 in c:\\users\\user\\documents\\python\\arkav\\lib\\site-packages (from tensorflow) (3.4.0)\n",
            "Requirement already satisfied: packaging in c:\\users\\user\\documents\\python\\arkav\\lib\\site-packages (from tensorflow) (25.0)\n",
            "Requirement already satisfied: protobuf!=4.21.0,!=4.21.1,!=4.21.2,!=4.21.3,!=4.21.4,!=4.21.5,<6.0.0dev,>=3.20.3 in c:\\users\\user\\documents\\python\\arkav\\lib\\site-packages (from tensorflow) (5.29.4)\n",
            "Requirement already satisfied: requests<3,>=2.21.0 in c:\\users\\user\\documents\\python\\arkav\\lib\\site-packages (from tensorflow) (2.32.3)\n",
            "Requirement already satisfied: setuptools in c:\\users\\user\\documents\\python\\arkav\\lib\\site-packages (from tensorflow) (80.0.0)\n",
            "Requirement already satisfied: six>=1.12.0 in c:\\users\\user\\documents\\python\\arkav\\lib\\site-packages (from tensorflow) (1.17.0)\n",
            "Requirement already satisfied: termcolor>=1.1.0 in c:\\users\\user\\documents\\python\\arkav\\lib\\site-packages (from tensorflow) (3.0.1)\n",
            "Requirement already satisfied: typing-extensions>=3.6.6 in c:\\users\\user\\documents\\python\\arkav\\lib\\site-packages (from tensorflow) (4.13.2)\n",
            "Requirement already satisfied: wrapt>=1.11.0 in c:\\users\\user\\documents\\python\\arkav\\lib\\site-packages (from tensorflow) (1.17.2)\n",
            "Requirement already satisfied: grpcio<2.0,>=1.24.3 in c:\\users\\user\\documents\\python\\arkav\\lib\\site-packages (from tensorflow) (1.71.0)\n",
            "Requirement already satisfied: tensorboard~=2.19.0 in c:\\users\\user\\documents\\python\\arkav\\lib\\site-packages (from tensorflow) (2.19.0)\n",
            "Requirement already satisfied: keras>=3.5.0 in c:\\users\\user\\documents\\python\\arkav\\lib\\site-packages (from tensorflow) (3.9.2)\n",
            "Requirement already satisfied: h5py>=3.11.0 in c:\\users\\user\\documents\\python\\arkav\\lib\\site-packages (from tensorflow) (3.13.0)\n",
            "Requirement already satisfied: ml-dtypes<1.0.0,>=0.5.1 in c:\\users\\user\\documents\\python\\arkav\\lib\\site-packages (from tensorflow) (0.5.1)\n",
            "Requirement already satisfied: charset-normalizer<4,>=2 in c:\\users\\user\\documents\\python\\arkav\\lib\\site-packages (from requests<3,>=2.21.0->tensorflow) (3.4.1)\n",
            "Requirement already satisfied: idna<4,>=2.5 in c:\\users\\user\\documents\\python\\arkav\\lib\\site-packages (from requests<3,>=2.21.0->tensorflow) (3.10)\n",
            "Requirement already satisfied: urllib3<3,>=1.21.1 in c:\\users\\user\\documents\\python\\arkav\\lib\\site-packages (from requests<3,>=2.21.0->tensorflow) (2.4.0)\n",
            "Requirement already satisfied: certifi>=2017.4.17 in c:\\users\\user\\documents\\python\\arkav\\lib\\site-packages (from requests<3,>=2.21.0->tensorflow) (2025.4.26)\n",
            "Requirement already satisfied: markdown>=2.6.8 in c:\\users\\user\\documents\\python\\arkav\\lib\\site-packages (from tensorboard~=2.19.0->tensorflow) (3.8)\n",
            "Requirement already satisfied: tensorboard-data-server<0.8.0,>=0.7.0 in c:\\users\\user\\documents\\python\\arkav\\lib\\site-packages (from tensorboard~=2.19.0->tensorflow) (0.7.2)\n",
            "Requirement already satisfied: werkzeug>=1.0.1 in c:\\users\\user\\documents\\python\\arkav\\lib\\site-packages (from tensorboard~=2.19.0->tensorflow) (3.1.3)\n",
            "Requirement already satisfied: filelock in c:\\users\\user\\documents\\python\\arkav\\lib\\site-packages (from transformers) (3.18.0)\n",
            "Requirement already satisfied: huggingface-hub<1.0,>=0.30.0 in c:\\users\\user\\documents\\python\\arkav\\lib\\site-packages (from transformers) (0.30.2)\n",
            "Requirement already satisfied: pyyaml>=5.1 in c:\\users\\user\\documents\\python\\arkav\\lib\\site-packages (from transformers) (6.0.2)\n",
            "Requirement already satisfied: regex!=2019.12.17 in c:\\users\\user\\documents\\python\\arkav\\lib\\site-packages (from transformers) (2024.11.6)\n",
            "Requirement already satisfied: tokenizers<0.22,>=0.21 in c:\\users\\user\\documents\\python\\arkav\\lib\\site-packages (from transformers) (0.21.1)\n",
            "Requirement already satisfied: safetensors>=0.4.3 in c:\\users\\user\\documents\\python\\arkav\\lib\\site-packages (from transformers) (0.5.3)\n",
            "Requirement already satisfied: tqdm>=4.27 in c:\\users\\user\\documents\\python\\arkav\\lib\\site-packages (from transformers) (4.67.1)\n",
            "Requirement already satisfied: fsspec>=2023.5.0 in c:\\users\\user\\documents\\python\\arkav\\lib\\site-packages (from huggingface-hub<1.0,>=0.30.0->transformers) (2025.3.2)\n",
            "Requirement already satisfied: nltk in c:\\users\\user\\documents\\python\\arkav\\lib\\site-packages (from rouge_score) (3.9.1)\n",
            "Requirement already satisfied: python-dateutil>=2.8.2 in c:\\users\\user\\documents\\python\\arkav\\lib\\site-packages (from pandas) (2.9.0.post0)\n",
            "Requirement already satisfied: pytz>=2020.1 in c:\\users\\user\\documents\\python\\arkav\\lib\\site-packages (from pandas) (2025.2)\n",
            "Requirement already satisfied: tzdata>=2022.7 in c:\\users\\user\\documents\\python\\arkav\\lib\\site-packages (from pandas) (2025.2)\n",
            "Requirement already satisfied: scipy>=1.6.0 in c:\\users\\user\\documents\\python\\arkav\\lib\\site-packages (from scikit-learn) (1.15.2)\n",
            "Requirement already satisfied: joblib>=1.2.0 in c:\\users\\user\\documents\\python\\arkav\\lib\\site-packages (from scikit-learn) (1.4.2)\n",
            "Requirement already satisfied: threadpoolctl>=3.1.0 in c:\\users\\user\\documents\\python\\arkav\\lib\\site-packages (from scikit-learn) (3.6.0)\n",
            "Requirement already satisfied: wheel<1.0,>=0.23.0 in c:\\users\\user\\documents\\python\\arkav\\lib\\site-packages (from astunparse>=1.6.0->tensorflow) (0.45.1)\n",
            "Requirement already satisfied: rich in c:\\users\\user\\documents\\python\\arkav\\lib\\site-packages (from keras>=3.5.0->tensorflow) (14.0.0)\n",
            "Requirement already satisfied: namex in c:\\users\\user\\documents\\python\\arkav\\lib\\site-packages (from keras>=3.5.0->tensorflow) (0.0.9)\n",
            "Requirement already satisfied: optree in c:\\users\\user\\documents\\python\\arkav\\lib\\site-packages (from keras>=3.5.0->tensorflow) (0.15.0)\n",
            "Requirement already satisfied: colorama in c:\\users\\user\\documents\\python\\arkav\\lib\\site-packages (from tqdm>=4.27->transformers) (0.4.6)\n",
            "Requirement already satisfied: MarkupSafe>=2.1.1 in c:\\users\\user\\documents\\python\\arkav\\lib\\site-packages (from werkzeug>=1.0.1->tensorboard~=2.19.0->tensorflow) (3.0.2)\n",
            "Requirement already satisfied: click in c:\\users\\user\\documents\\python\\arkav\\lib\\site-packages (from nltk->rouge_score) (8.1.8)\n",
            "Requirement already satisfied: markdown-it-py>=2.2.0 in c:\\users\\user\\documents\\python\\arkav\\lib\\site-packages (from rich->keras>=3.5.0->tensorflow) (3.0.0)\n",
            "Requirement already satisfied: pygments<3.0.0,>=2.13.0 in c:\\users\\user\\documents\\python\\arkav\\lib\\site-packages (from rich->keras>=3.5.0->tensorflow) (2.19.1)\n",
            "Requirement already satisfied: mdurl~=0.1 in c:\\users\\user\\documents\\python\\arkav\\lib\\site-packages (from markdown-it-py>=2.2.0->rich->keras>=3.5.0->tensorflow) (0.1.2)\n",
            "Requirement already satisfied: torch in c:\\users\\user\\documents\\python\\arkav\\lib\\site-packages (2.7.0)\n",
            "Requirement already satisfied: filelock in c:\\users\\user\\documents\\python\\arkav\\lib\\site-packages (from torch) (3.18.0)\n",
            "Requirement already satisfied: typing-extensions>=4.10.0 in c:\\users\\user\\documents\\python\\arkav\\lib\\site-packages (from torch) (4.13.2)\n",
            "Requirement already satisfied: sympy>=1.13.3 in c:\\users\\user\\documents\\python\\arkav\\lib\\site-packages (from torch) (1.14.0)\n",
            "Requirement already satisfied: networkx in c:\\users\\user\\documents\\python\\arkav\\lib\\site-packages (from torch) (3.4.2)\n",
            "Requirement already satisfied: jinja2 in c:\\users\\user\\documents\\python\\arkav\\lib\\site-packages (from torch) (3.1.6)\n",
            "Requirement already satisfied: fsspec in c:\\users\\user\\documents\\python\\arkav\\lib\\site-packages (from torch) (2025.3.2)\n",
            "Requirement already satisfied: setuptools in c:\\users\\user\\documents\\python\\arkav\\lib\\site-packages (from torch) (80.0.0)\n",
            "Requirement already satisfied: mpmath<1.4,>=1.1.0 in c:\\users\\user\\documents\\python\\arkav\\lib\\site-packages (from sympy>=1.13.3->torch) (1.3.0)\n",
            "Requirement already satisfied: MarkupSafe>=2.0 in c:\\users\\user\\documents\\python\\arkav\\lib\\site-packages (from jinja2->torch) (3.0.2)\n"
          ]
        },
        {
          "name": "stderr",
          "output_type": "stream",
          "text": [
            "c:\\Users\\USER\\Documents\\Python\\arkaV\\Lib\\site-packages\\tqdm\\auto.py:21: TqdmWarning: IProgress not found. Please update jupyter and ipywidgets. See https://ipywidgets.readthedocs.io/en/stable/user_install.html\n",
            "  from .autonotebook import tqdm as notebook_tqdm\n"
          ]
        },
        {
          "name": "stdout",
          "output_type": "stream",
          "text": [
            "WARNING:tensorflow:From c:\\Users\\USER\\Documents\\Python\\arkaV\\Lib\\site-packages\\tf_keras\\src\\losses.py:2976: The name tf.losses.sparse_softmax_cross_entropy is deprecated. Please use tf.compat.v1.losses.sparse_softmax_cross_entropy instead.\n",
            "\n",
            "TensorFlow version: 2.19.0\n"
          ]
        }
      ],
      "source": [
        "\n",
        "!pip install tensorflow transformers rouge_score pandas numpy scikit-learn\n",
        "!pip install torch\n",
        "\n",
        "import os\n",
        "import numpy as np\n",
        "import pandas as pd\n",
        "import matplotlib.pyplot as plt\n",
        "\n",
        "import tensorflow as tf\n",
        "from tensorflow.keras.preprocessing.text import Tokenizer\n",
        "from tensorflow.keras.preprocessing.sequence import pad_sequences\n",
        "from tensorflow.keras.models import Model\n",
        "from tensorflow.keras.layers import Input, Embedding, LSTM, Dense\n",
        "\n",
        "from sklearn.model_selection import train_test_split\n",
        "\n",
        "from transformers import EncoderDecoderModel, BertTokenizer, Trainer, TrainingArguments\n",
        "from rouge_score import rouge_scorer\n",
        "\n",
        "print(\"TensorFlow version:\", tf.__version__)\n"
      ]
    },
    {
      "cell_type": "markdown",
      "metadata": {},
      "source": [
        "### Loading the dataset"
      ]
    },
    {
      "cell_type": "code",
      "execution_count": 2,
      "metadata": {
        "colab": {
          "base_uri": "https://localhost:8080/",
          "height": 206
        },
        "id": "u9qtDYAcKO8g",
        "outputId": "fe4f41cb-01e3-4634-9d70-80cbf90cf513"
      },
      "outputs": [
        {
          "data": {
            "text/html": [
              "<div>\n",
              "<style scoped>\n",
              "    .dataframe tbody tr th:only-of-type {\n",
              "        vertical-align: middle;\n",
              "    }\n",
              "\n",
              "    .dataframe tbody tr th {\n",
              "        vertical-align: top;\n",
              "    }\n",
              "\n",
              "    .dataframe thead th {\n",
              "        text-align: right;\n",
              "    }\n",
              "</style>\n",
              "<table border=\"1\" class=\"dataframe\">\n",
              "  <thead>\n",
              "    <tr style=\"text-align: right;\">\n",
              "      <th></th>\n",
              "      <th>id</th>\n",
              "      <th>dialogue</th>\n",
              "      <th>summary</th>\n",
              "    </tr>\n",
              "  </thead>\n",
              "  <tbody>\n",
              "    <tr>\n",
              "      <th>0</th>\n",
              "      <td>13862856</td>\n",
              "      <td>Hannah: Hey, do you have Betty's number?\\nAman...</td>\n",
              "      <td>Hannah needs Betty's number but Amanda doesn't...</td>\n",
              "    </tr>\n",
              "    <tr>\n",
              "      <th>1</th>\n",
              "      <td>13729565</td>\n",
              "      <td>Eric: MACHINE!\\r\\nRob: That's so gr8!\\r\\nEric:...</td>\n",
              "      <td>Eric and Rob are going to watch a stand-up on ...</td>\n",
              "    </tr>\n",
              "    <tr>\n",
              "      <th>2</th>\n",
              "      <td>13680171</td>\n",
              "      <td>Lenny: Babe, can you help me with something?\\r...</td>\n",
              "      <td>Lenny can't decide which trousers to buy. Bob ...</td>\n",
              "    </tr>\n",
              "    <tr>\n",
              "      <th>3</th>\n",
              "      <td>13729438</td>\n",
              "      <td>Will: hey babe, what do you want for dinner to...</td>\n",
              "      <td>Emma will be home soon and she will let Will k...</td>\n",
              "    </tr>\n",
              "    <tr>\n",
              "      <th>4</th>\n",
              "      <td>13828600</td>\n",
              "      <td>Ollie: Hi , are you in Warsaw\\r\\nJane: yes, ju...</td>\n",
              "      <td>Jane is in Warsaw. Ollie and Jane has a party....</td>\n",
              "    </tr>\n",
              "  </tbody>\n",
              "</table>\n",
              "</div>"
            ],
            "text/plain": [
              "         id                                           dialogue  \\\n",
              "0  13862856  Hannah: Hey, do you have Betty's number?\\nAman...   \n",
              "1  13729565  Eric: MACHINE!\\r\\nRob: That's so gr8!\\r\\nEric:...   \n",
              "2  13680171  Lenny: Babe, can you help me with something?\\r...   \n",
              "3  13729438  Will: hey babe, what do you want for dinner to...   \n",
              "4  13828600  Ollie: Hi , are you in Warsaw\\r\\nJane: yes, ju...   \n",
              "\n",
              "                                             summary  \n",
              "0  Hannah needs Betty's number but Amanda doesn't...  \n",
              "1  Eric and Rob are going to watch a stand-up on ...  \n",
              "2  Lenny can't decide which trousers to buy. Bob ...  \n",
              "3  Emma will be home soon and she will let Will k...  \n",
              "4  Jane is in Warsaw. Ollie and Jane has a party....  "
            ]
          },
          "execution_count": 2,
          "metadata": {},
          "output_type": "execute_result"
        }
      ],
      "source": [
        "import pandas as pd\n",
        "\n",
        "file_path = \"DiaglougeData_v1.csv\"\n",
        "\n",
        "data = pd.read_csv(file_path, engine=\"python\", on_bad_lines=\"skip\")\n",
        "data.head()"
      ]
    },
    {
      "cell_type": "markdown",
      "metadata": {
        "id": "S4pK-9ilKO8g"
      },
      "source": [
        "## Preprocessing"
      ]
    },
    {
      "cell_type": "markdown",
      "metadata": {},
      "source": [
        "### (Check for missing values)"
      ]
    },
    {
      "cell_type": "code",
      "execution_count": 3,
      "metadata": {
        "colab": {
          "base_uri": "https://localhost:8080/"
        },
        "id": "4_J51648KO8g",
        "outputId": "8ce6e5b0-f526-4169-c15e-2c4d4d2c1e29"
      },
      "outputs": [
        {
          "name": "stdout",
          "output_type": "stream",
          "text": [
            "Missing values before handling:\n",
            " id          0\n",
            "dialogue    0\n",
            "summary     0\n",
            "dtype: int64\n"
          ]
        }
      ],
      "source": [
        "print(\"Missing values before handling:\\n\", data.isnull().sum())\n"
      ]
    },
    {
      "cell_type": "markdown",
      "metadata": {},
      "source": [
        "### (Removing emoji and special charecters)"
      ]
    },
    {
      "cell_type": "code",
      "execution_count": 4,
      "metadata": {
        "colab": {
          "base_uri": "https://localhost:8080/"
        },
        "id": "Ba7E-GIMKO8g",
        "outputId": "b61f49ee-a1f9-478f-f5da-42aaae8d17a4"
      },
      "outputs": [
        {
          "name": "stdout",
          "output_type": "stream",
          "text": [
            "         id                                           dialogue  \\\n",
            "0  13862856  hannah hey do you have bettys number\\namanda l...   \n",
            "1  13729565  eric machine\\r\\nrob thats so gr\\r\\neric i know...   \n",
            "2  13680171  lenny babe can you help me with something\\r\\nb...   \n",
            "3  13729438  will hey babe what do you want for dinner toni...   \n",
            "4  13828600  ollie hi  are you in warsaw\\r\\njane yes just b...   \n",
            "\n",
            "                                             summary  \n",
            "0  hannah needs bettys number but amanda doesnt h...  \n",
            "1  eric and rob are going to watch a standup on y...  \n",
            "2  lenny cant decide which trousers to buy bob ad...  \n",
            "3  emma will be home soon and she will let will know  \n",
            "4  jane is in warsaw ollie and jane has a party j...  \n"
          ]
        }
      ],
      "source": [
        "import re\n",
        "def remove_emoji(text):\n",
        "    if not isinstance(text, str):\n",
        "        return text\n",
        "    emoji_pattern = re.compile(\"[\"\n",
        "                               u\"\\U0001F600-\\U0001F64F\"  # emoticons\n",
        "                               u\"\\U0001F300-\\U0001F5FF\"  # symbols & pictographs\n",
        "                               u\"\\U0001F680-\\U0001F6FF\"  # transport & map symbols\n",
        "                               u\"\\U0001F1E0-\\U0001F1FF\"  # flags\n",
        "                               u\"\\U00002702-\\U000027B0\"  # additional symbols\n",
        "                               u\"\\U000024C2-\\U0001F251\"\n",
        "                               \"]+\", flags=re.UNICODE)\n",
        "    return emoji_pattern.sub(r'', text)\n",
        "\n",
        "#ID\n",
        "data['id'] = data['id'].astype(str).str.split('-').str[0].astype(int)\n",
        "\n",
        "# Dialoge- Remove emojis and strip extra spaces\n",
        "data['dialogue'] = data['dialogue'].apply(lambda x: remove_emoji(x).strip().lower() if isinstance(x, str) else x)\n",
        "\n",
        "# Summary- Remove emojis and strip extra spaces\n",
        "data['summary'] = data['summary'].apply(lambda x: remove_emoji(x).strip().lower() if isinstance(x, str) else x)\n",
        "\n",
        "# Remove special characters and numbers from 'dialogue' and 'summary' columns\n",
        "data['dialogue'] = data['dialogue'].apply(lambda x: re.sub(r'[^a-zA-Z\\s]', '', x) if isinstance(x, str) else x)\n",
        "data['summary'] = data['summary'].apply(lambda x: re.sub(r'[^a-zA-Z\\s]', '', x) if isinstance(x, str) else x)\n",
        "\n",
        "\n",
        "# Remove duplicate rows based on 'id' or other relevant columns\n",
        "data.drop_duplicates(subset=['id'], keep='first', inplace=True)\n",
        "\n",
        "\n",
        "print(data.head())"
      ]
    },
    {
      "cell_type": "markdown",
      "metadata": {},
      "source": [
        "### (Step-words removal)"
      ]
    },
    {
      "cell_type": "code",
      "execution_count": null,
      "metadata": {
        "colab": {
          "base_uri": "https://localhost:8080/"
        },
        "id": "Nm9m9FugKO8h",
        "outputId": "f43e51b2-03d6-4870-ce86-dc7bb6e32f5f"
      },
      "outputs": [
        {
          "name": "stderr",
          "output_type": "stream",
          "text": [
            "[nltk_data] Downloading package stopwords to\n",
            "[nltk_data]     C:\\Users\\USER\\AppData\\Roaming\\nltk_data...\n",
            "[nltk_data]   Package stopwords is already up-to-date!\n",
            "[nltk_data] Downloading package punkt to\n",
            "[nltk_data]     C:\\Users\\USER\\AppData\\Roaming\\nltk_data...\n",
            "[nltk_data]   Package punkt is already up-to-date!\n",
            "[nltk_data] Downloading package words to\n",
            "[nltk_data]     C:\\Users\\USER\\AppData\\Roaming\\nltk_data...\n",
            "[nltk_data]   Package words is already up-to-date!\n",
            "[nltk_data] Downloading package punkt_tab to\n",
            "[nltk_data]     C:\\Users\\USER\\AppData\\Roaming\\nltk_data...\n",
            "[nltk_data]   Package punkt_tab is already up-to-date!\n"
          ]
        },
        {
          "name": "stdout",
          "output_type": "stream",
          "text": [
            "                                            dialogue  \\\n",
            "0  hey number amanda check amanda sorry find aman...   \n",
            "1  eric machine rob eric know show see russian ro...   \n",
            "2  lenny babe help something bob sure lenny pick ...   \n",
            "3  hey babe want dinner tonight emma even worry t...   \n",
            "4  ollie hi warsaw jane yes back free din th olli...   \n",
            "\n",
            "                                             summary  \n",
            "0              need number amanda need contact larry  \n",
            "1                                     eric rob watch  \n",
            "2  lenny decide trouser buy bob advise lenny topi...  \n",
            "3                            emma home soon let know  \n",
            "4  jane warsaw ollie jane party jane lose calenda...  \n"
          ]
        }
      ],
      "source": [
        "import re\n",
        "import string\n",
        "import nltk\n",
        "from nltk.corpus import stopwords, words\n",
        "from nltk.tokenize import word_tokenize\n",
        "import spacy\n",
        "\n",
        "# Download necessary NLTK data\n",
        "nltk.download('stopwords')\n",
        "nltk.download('punkt')\n",
        "nltk.download('words')\n",
        "nltk.download('punkt_tab')\n",
        "\n",
        "# Create stopwords list and extend with punctuation and custom words\n",
        "stopwords_list = stopwords.words('english')\n",
        "stopwords_list += list(string.punctuation)\n",
        "stopwords_list += ['one', 'two', 'go', 'goes', 'get', 'also', 'however', 'tells']\n",
        "stopwords_list += [str(i) for i in range(10)]  # Convert digits to strings if needed\n",
        "\n",
        "# Build an English vocabulary set from NLTK words corpus\n",
        "english_vocab = set(w.lower() for w in words.words())\n",
        "\n",
        "# Load spaCy's English model for lemmatization (ensure en_core_web_sm is installed)\n",
        "nlp = spacy.load(\"en_core_web_sm\")\n",
        "\n",
        "def clean_text(text):\n",
        "    # Convert to lowercase and apply regex substitutions for normalization\n",
        "    text = text.lower()\n",
        "    text = re.sub(r\"what's\", \"what is \", text)\n",
        "    text = re.sub(r\"\\'s\", \" \", text)\n",
        "    text = re.sub(r\"\\'ve\", \" have \", text)\n",
        "    text = re.sub(r\"can't\", \"can not \", text)\n",
        "    text = re.sub(r\"n't\", \" not \", text)\n",
        "    text = re.sub(r\"\\'re\", \" are \", text)\n",
        "    text = re.sub(r\"\\'d\", \" would \", text)\n",
        "    text = re.sub(r\"\\'ll\", \" will \", text)\n",
        "    text = re.sub(r\"\\'scuse\", \" excuse \", text)\n",
        "    text = re.sub(r'\\W', ' ', text)       # Remove non-word characters\n",
        "    text = re.sub(r'\\s+', ' ', text)      # Remove extra spaces\n",
        "    text = re.sub(r'\\d+', ' ', text)      # Remove digits\n",
        "    text = text.strip()\n",
        "\n",
        "    # Tokenize the text\n",
        "    tokens = word_tokenize(text)\n",
        "    # Re-join to ensure consistency for spaCy processing\n",
        "    text = ' '.join(tokens)\n",
        "\n",
        "    # Use spaCy for lemmatization\n",
        "    doc = nlp(text)\n",
        "    lemmas = [token.lemma_ for token in doc]\n",
        "\n",
        "    # Remove stopwords\n",
        "    lemmas = [w for w in lemmas if w not in stopwords_list]\n",
        "\n",
        "    # Filter out words not in the English vocabulary\n",
        "    lemmas = [w for w in lemmas if w in english_vocab]\n",
        "\n",
        "    # Return the cleaned text as a string\n",
        "    return ' '.join(lemmas)\n",
        "\n",
        "# Overwrite the original dialogue and summary columns with cleaned text\n",
        "data['dialogue'] = data['dialogue'].apply(clean_text)\n",
        "data['summary'] = data['summary'].apply(clean_text)\n",
        "\n",
        "# Verify the cleaned columns\n",
        "print(data[['dialogue', 'summary']].head())\n",
        "\n"
      ]
    },
    {
      "cell_type": "markdown",
      "metadata": {
        "id": "-1bE-ng5KO8h"
      },
      "source": [
        "# Part-2 LSTM based Encoder-Decoder "
      ]
    },
    {
      "cell_type": "code",
      "execution_count": 7,
      "metadata": {
        "colab": {
          "base_uri": "https://localhost:8080/",
          "height": 1000
        },
        "id": "0VwVtv75KO8h",
        "outputId": "d73243b4-91c2-4927-dc34-bcf49bcd5726"
      },
      "outputs": [
        {
          "name": "stdout",
          "output_type": "stream",
          "text": [
            "Epoch 1/50\n",
            "\u001b[1m18/18\u001b[0m \u001b[32m━━━━━━━━━━━━━━━━━━━━\u001b[0m\u001b[37m\u001b[0m \u001b[1m49s\u001b[0m 2s/step - accuracy: 0.4155 - loss: 8.4256 - val_accuracy: 0.8464 - val_loss: 7.0374\n",
            "Epoch 2/50\n",
            "\u001b[1m18/18\u001b[0m \u001b[32m━━━━━━━━━━━━━━━━━━━━\u001b[0m\u001b[37m\u001b[0m \u001b[1m26s\u001b[0m 1s/step - accuracy: 0.8324 - loss: 6.8742 - val_accuracy: 0.8464 - val_loss: 7.1058\n",
            "Epoch 3/50\n",
            "\u001b[1m18/18\u001b[0m \u001b[32m━━━━━━━━━━━━━━━━━━━━\u001b[0m\u001b[37m\u001b[0m \u001b[1m31s\u001b[0m 2s/step - accuracy: 0.8244 - loss: 6.6883 - val_accuracy: 0.8464 - val_loss: 7.0383\n",
            "Epoch 4/50\n",
            "\u001b[1m18/18\u001b[0m \u001b[32m━━━━━━━━━━━━━━━━━━━━\u001b[0m\u001b[37m\u001b[0m \u001b[1m28s\u001b[0m 2s/step - accuracy: 0.8228 - loss: 6.6059 - val_accuracy: 0.8472 - val_loss: 7.0667\n",
            "Epoch 5/50\n",
            "\u001b[1m18/18\u001b[0m \u001b[32m━━━━━━━━━━━━━━━━━━━━\u001b[0m\u001b[37m\u001b[0m \u001b[1m29s\u001b[0m 2s/step - accuracy: 0.8301 - loss: 6.5324 - val_accuracy: 0.8472 - val_loss: 7.0765\n",
            "Epoch 6/50\n",
            "\u001b[1m18/18\u001b[0m \u001b[32m━━━━━━━━━━━━━━━━━━━━\u001b[0m\u001b[37m\u001b[0m \u001b[1m30s\u001b[0m 2s/step - accuracy: 0.8193 - loss: 6.5209 - val_accuracy: 0.8404 - val_loss: 7.0720\n",
            "Epoch 7/50\n",
            "\u001b[1m18/18\u001b[0m \u001b[32m━━━━━━━━━━━━━━━━━━━━\u001b[0m\u001b[37m\u001b[0m \u001b[1m29s\u001b[0m 2s/step - accuracy: 0.8115 - loss: 6.4914 - val_accuracy: 0.8277 - val_loss: 7.1230\n",
            "Epoch 8/50\n",
            "\u001b[1m18/18\u001b[0m \u001b[32m━━━━━━━━━━━━━━━━━━━━\u001b[0m\u001b[37m\u001b[0m \u001b[1m29s\u001b[0m 2s/step - accuracy: 0.7908 - loss: 6.4917 - val_accuracy: 0.8469 - val_loss: 7.0667\n",
            "Epoch 9/50\n",
            "\u001b[1m18/18\u001b[0m \u001b[32m━━━━━━━━━━━━━━━━━━━━\u001b[0m\u001b[37m\u001b[0m \u001b[1m29s\u001b[0m 2s/step - accuracy: 0.8309 - loss: 6.3614 - val_accuracy: 0.8470 - val_loss: 7.0887\n",
            "Epoch 10/50\n",
            "\u001b[1m18/18\u001b[0m \u001b[32m━━━━━━━━━━━━━━━━━━━━\u001b[0m\u001b[37m\u001b[0m \u001b[1m27s\u001b[0m 2s/step - accuracy: 0.8301 - loss: 6.3202 - val_accuracy: 0.8470 - val_loss: 7.1341\n",
            "Epoch 11/50\n",
            "\u001b[1m18/18\u001b[0m \u001b[32m━━━━━━━━━━━━━━━━━━━━\u001b[0m\u001b[37m\u001b[0m \u001b[1m27s\u001b[0m 2s/step - accuracy: 0.8272 - loss: 6.2672 - val_accuracy: 0.8475 - val_loss: 7.1585\n",
            "Epoch 12/50\n",
            "\u001b[1m18/18\u001b[0m \u001b[32m━━━━━━━━━━━━━━━━━━━━\u001b[0m\u001b[37m\u001b[0m \u001b[1m35s\u001b[0m 2s/step - accuracy: 0.8321 - loss: 6.2147 - val_accuracy: 0.8472 - val_loss: 7.1870\n",
            "Epoch 13/50\n",
            "\u001b[1m18/18\u001b[0m \u001b[32m━━━━━━━━━━━━━━━━━━━━\u001b[0m\u001b[37m\u001b[0m \u001b[1m41s\u001b[0m 2s/step - accuracy: 0.8279 - loss: 6.1920 - val_accuracy: 0.8467 - val_loss: 7.2287\n",
            "Epoch 14/50\n",
            "\u001b[1m18/18\u001b[0m \u001b[32m━━━━━━━━━━━━━━━━━━━━\u001b[0m\u001b[37m\u001b[0m \u001b[1m30s\u001b[0m 2s/step - accuracy: 0.8258 - loss: 6.1735 - val_accuracy: 0.8469 - val_loss: 7.2752\n",
            "Epoch 15/50\n",
            "\u001b[1m18/18\u001b[0m \u001b[32m━━━━━━━━━━━━━━━━━━━━\u001b[0m\u001b[37m\u001b[0m \u001b[1m28s\u001b[0m 2s/step - accuracy: 0.8307 - loss: 6.1133 - val_accuracy: 0.8473 - val_loss: 7.3119\n",
            "Epoch 16/50\n",
            "\u001b[1m18/18\u001b[0m \u001b[32m━━━━━━━━━━━━━━━━━━━━\u001b[0m\u001b[37m\u001b[0m \u001b[1m27s\u001b[0m 1s/step - accuracy: 0.8292 - loss: 6.0915 - val_accuracy: 0.8473 - val_loss: 7.3504\n",
            "Epoch 17/50\n",
            "\u001b[1m18/18\u001b[0m \u001b[32m━━━━━━━━━━━━━━━━━━━━\u001b[0m\u001b[37m\u001b[0m \u001b[1m28s\u001b[0m 2s/step - accuracy: 0.8295 - loss: 6.0434 - val_accuracy: 0.8472 - val_loss: 7.3731\n",
            "Epoch 18/50\n",
            "\u001b[1m18/18\u001b[0m \u001b[32m━━━━━━━━━━━━━━━━━━━━\u001b[0m\u001b[37m\u001b[0m \u001b[1m28s\u001b[0m 2s/step - accuracy: 0.8299 - loss: 5.9973 - val_accuracy: 0.8469 - val_loss: 7.3972\n",
            "Epoch 19/50\n",
            "\u001b[1m18/18\u001b[0m \u001b[32m━━━━━━━━━━━━━━━━━━━━\u001b[0m\u001b[37m\u001b[0m \u001b[1m25s\u001b[0m 1s/step - accuracy: 0.8312 - loss: 5.9517 - val_accuracy: 0.8462 - val_loss: 7.4496\n",
            "Epoch 20/50\n",
            "\u001b[1m18/18\u001b[0m \u001b[32m━━━━━━━━━━━━━━━━━━━━\u001b[0m\u001b[37m\u001b[0m \u001b[1m26s\u001b[0m 1s/step - accuracy: 0.8283 - loss: 5.9440 - val_accuracy: 0.8462 - val_loss: 7.4900\n",
            "Epoch 21/50\n",
            "\u001b[1m18/18\u001b[0m \u001b[32m━━━━━━━━━━━━━━━━━━━━\u001b[0m\u001b[37m\u001b[0m \u001b[1m27s\u001b[0m 1s/step - accuracy: 0.8292 - loss: 5.8933 - val_accuracy: 0.8459 - val_loss: 7.5178\n",
            "Epoch 22/50\n",
            "\u001b[1m18/18\u001b[0m \u001b[32m━━━━━━━━━━━━━━━━━━━━\u001b[0m\u001b[37m\u001b[0m \u001b[1m32s\u001b[0m 2s/step - accuracy: 0.8320 - loss: 5.8148 - val_accuracy: 0.8453 - val_loss: 7.5656\n",
            "Epoch 23/50\n",
            "\u001b[1m18/18\u001b[0m \u001b[32m━━━━━━━━━━━━━━━━━━━━\u001b[0m\u001b[37m\u001b[0m \u001b[1m38s\u001b[0m 2s/step - accuracy: 0.8321 - loss: 5.7904 - val_accuracy: 0.8451 - val_loss: 7.5913\n",
            "Epoch 24/50\n",
            "\u001b[1m18/18\u001b[0m \u001b[32m━━━━━━━━━━━━━━━━━━━━\u001b[0m\u001b[37m\u001b[0m \u001b[1m30s\u001b[0m 2s/step - accuracy: 0.8300 - loss: 5.7477 - val_accuracy: 0.8451 - val_loss: 7.6374\n",
            "Epoch 25/50\n",
            "\u001b[1m18/18\u001b[0m \u001b[32m━━━━━━━━━━━━━━━━━━━━\u001b[0m\u001b[37m\u001b[0m \u001b[1m28s\u001b[0m 2s/step - accuracy: 0.8321 - loss: 5.6985 - val_accuracy: 0.8440 - val_loss: 7.6544\n",
            "Epoch 26/50\n",
            "\u001b[1m18/18\u001b[0m \u001b[32m━━━━━━━━━━━━━━━━━━━━\u001b[0m\u001b[37m\u001b[0m \u001b[1m27s\u001b[0m 2s/step - accuracy: 0.8324 - loss: 5.6451 - val_accuracy: 0.8428 - val_loss: 7.7027\n",
            "Epoch 27/50\n",
            "\u001b[1m18/18\u001b[0m \u001b[32m━━━━━━━━━━━━━━━━━━━━\u001b[0m\u001b[37m\u001b[0m \u001b[1m27s\u001b[0m 2s/step - accuracy: 0.8313 - loss: 5.6057 - val_accuracy: 0.8425 - val_loss: 7.7362\n",
            "Epoch 28/50\n",
            "\u001b[1m18/18\u001b[0m \u001b[32m━━━━━━━━━━━━━━━━━━━━\u001b[0m\u001b[37m\u001b[0m \u001b[1m28s\u001b[0m 2s/step - accuracy: 0.8312 - loss: 5.5568 - val_accuracy: 0.8346 - val_loss: 7.7571\n",
            "Epoch 29/50\n",
            "\u001b[1m18/18\u001b[0m \u001b[32m━━━━━━━━━━━━━━━━━━━━\u001b[0m\u001b[37m\u001b[0m \u001b[1m26s\u001b[0m 1s/step - accuracy: 0.8318 - loss: 5.5140 - val_accuracy: 0.8424 - val_loss: 7.8170\n",
            "Epoch 30/50\n",
            "\u001b[1m18/18\u001b[0m \u001b[32m━━━━━━━━━━━━━━━━━━━━\u001b[0m\u001b[37m\u001b[0m \u001b[1m32s\u001b[0m 2s/step - accuracy: 0.8278 - loss: 5.4736 - val_accuracy: 0.8414 - val_loss: 7.8671\n",
            "Epoch 31/50\n",
            "\u001b[1m18/18\u001b[0m \u001b[32m━━━━━━━━━━━━━━━━━━━━\u001b[0m\u001b[37m\u001b[0m \u001b[1m37s\u001b[0m 2s/step - accuracy: 0.8364 - loss: 5.3810 - val_accuracy: 0.8414 - val_loss: 7.8838\n",
            "Epoch 32/50\n",
            "\u001b[1m18/18\u001b[0m \u001b[32m━━━━━━━━━━━━━━━━━━━━\u001b[0m\u001b[37m\u001b[0m \u001b[1m43s\u001b[0m 2s/step - accuracy: 0.8394 - loss: 5.3076 - val_accuracy: 0.8401 - val_loss: 7.9206\n",
            "Epoch 33/50\n",
            "\u001b[1m18/18\u001b[0m \u001b[32m━━━━━━━━━━━━━━━━━━━━\u001b[0m\u001b[37m\u001b[0m \u001b[1m45s\u001b[0m 2s/step - accuracy: 0.8295 - loss: 5.3160 - val_accuracy: 0.8408 - val_loss: 7.9799\n",
            "Epoch 34/50\n",
            "\u001b[1m18/18\u001b[0m \u001b[32m━━━━━━━━━━━━━━━━━━━━\u001b[0m\u001b[37m\u001b[0m \u001b[1m43s\u001b[0m 2s/step - accuracy: 0.8312 - loss: 5.2401 - val_accuracy: 0.8393 - val_loss: 7.9969\n",
            "Epoch 35/50\n",
            "\u001b[1m18/18\u001b[0m \u001b[32m━━━━━━━━━━━━━━━━━━━━\u001b[0m\u001b[37m\u001b[0m \u001b[1m42s\u001b[0m 2s/step - accuracy: 0.8371 - loss: 5.1592 - val_accuracy: 0.8387 - val_loss: 8.0393\n",
            "Epoch 36/50\n",
            "\u001b[1m18/18\u001b[0m \u001b[32m━━━━━━━━━━━━━━━━━━━━\u001b[0m\u001b[37m\u001b[0m \u001b[1m42s\u001b[0m 2s/step - accuracy: 0.8331 - loss: 5.1408 - val_accuracy: 0.8399 - val_loss: 8.0962\n",
            "Epoch 37/50\n",
            "\u001b[1m18/18\u001b[0m \u001b[32m━━━━━━━━━━━━━━━━━━━━\u001b[0m\u001b[37m\u001b[0m \u001b[1m42s\u001b[0m 2s/step - accuracy: 0.8340 - loss: 5.0879 - val_accuracy: 0.8387 - val_loss: 8.1352\n",
            "Epoch 38/50\n",
            "\u001b[1m18/18\u001b[0m \u001b[32m━━━━━━━━━━━━━━━━━━━━\u001b[0m\u001b[37m\u001b[0m \u001b[1m38s\u001b[0m 2s/step - accuracy: 0.8373 - loss: 5.0003 - val_accuracy: 0.8380 - val_loss: 8.1716\n",
            "Epoch 39/50\n",
            "\u001b[1m18/18\u001b[0m \u001b[32m━━━━━━━━━━━━━━━━━━━━\u001b[0m\u001b[37m\u001b[0m \u001b[1m27s\u001b[0m 1s/step - accuracy: 0.8316 - loss: 4.9904 - val_accuracy: 0.8390 - val_loss: 8.2139\n",
            "Epoch 40/50\n",
            "\u001b[1m18/18\u001b[0m \u001b[32m━━━━━━━━━━━━━━━━━━━━\u001b[0m\u001b[37m\u001b[0m \u001b[1m27s\u001b[0m 1s/step - accuracy: 0.8357 - loss: 4.9101 - val_accuracy: 0.8359 - val_loss: 8.2354\n",
            "Epoch 41/50\n",
            "\u001b[1m18/18\u001b[0m \u001b[32m━━━━━━━━━━━━━━━━━━━━\u001b[0m\u001b[37m\u001b[0m \u001b[1m26s\u001b[0m 1s/step - accuracy: 0.8413 - loss: 4.8267 - val_accuracy: 0.8367 - val_loss: 8.2865\n",
            "Epoch 42/50\n",
            "\u001b[1m18/18\u001b[0m \u001b[32m━━━━━━━━━━━━━━━━━━━━\u001b[0m\u001b[37m\u001b[0m \u001b[1m31s\u001b[0m 2s/step - accuracy: 0.8376 - loss: 4.7965 - val_accuracy: 0.8364 - val_loss: 8.3242\n",
            "Epoch 43/50\n",
            "\u001b[1m18/18\u001b[0m \u001b[32m━━━━━━━━━━━━━━━━━━━━\u001b[0m\u001b[37m\u001b[0m \u001b[1m31s\u001b[0m 2s/step - accuracy: 0.8409 - loss: 4.7210 - val_accuracy: 0.8356 - val_loss: 8.3857\n",
            "Epoch 44/50\n",
            "\u001b[1m18/18\u001b[0m \u001b[32m━━━━━━━━━━━━━━━━━━━━\u001b[0m\u001b[37m\u001b[0m \u001b[1m34s\u001b[0m 2s/step - accuracy: 0.8337 - loss: 4.6866 - val_accuracy: 0.8338 - val_loss: 8.4010\n",
            "Epoch 45/50\n",
            "\u001b[1m18/18\u001b[0m \u001b[32m━━━━━━━━━━━━━━━━━━━━\u001b[0m\u001b[37m\u001b[0m \u001b[1m29s\u001b[0m 2s/step - accuracy: 0.8403 - loss: 4.5868 - val_accuracy: 0.8348 - val_loss: 8.4745\n",
            "Epoch 46/50\n",
            "\u001b[1m18/18\u001b[0m \u001b[32m━━━━━━━━━━━━━━━━━━━━\u001b[0m\u001b[37m\u001b[0m \u001b[1m36s\u001b[0m 2s/step - accuracy: 0.8414 - loss: 4.5524 - val_accuracy: 0.8353 - val_loss: 8.4876\n",
            "Epoch 47/50\n",
            "\u001b[1m18/18\u001b[0m \u001b[32m━━━━━━━━━━━━━━━━━━━━\u001b[0m\u001b[37m\u001b[0m \u001b[1m35s\u001b[0m 2s/step - accuracy: 0.8489 - loss: 4.4544 - val_accuracy: 0.8354 - val_loss: 8.5439\n",
            "Epoch 48/50\n",
            "\u001b[1m18/18\u001b[0m \u001b[32m━━━━━━━━━━━━━━━━━━━━\u001b[0m\u001b[37m\u001b[0m \u001b[1m51s\u001b[0m 3s/step - accuracy: 0.8471 - loss: 4.4176 - val_accuracy: 0.8335 - val_loss: 8.5718\n",
            "Epoch 49/50\n",
            "\u001b[1m18/18\u001b[0m \u001b[32m━━━━━━━━━━━━━━━━━━━━\u001b[0m\u001b[37m\u001b[0m \u001b[1m36s\u001b[0m 2s/step - accuracy: 0.8468 - loss: 4.3613 - val_accuracy: 0.8343 - val_loss: 8.6171\n",
            "Epoch 50/50\n",
            "\u001b[1m18/18\u001b[0m \u001b[32m━━━━━━━━━━━━━━━━━━━━\u001b[0m\u001b[37m\u001b[0m \u001b[1m36s\u001b[0m 2s/step - accuracy: 0.8556 - loss: 4.2532 - val_accuracy: 0.8327 - val_loss: 8.6238\n"
          ]
        },
        {
          "data": {
            "image/png": "[encoded data removed]",
            "text/plain": [
              "<Figure size 640x480 with 1 Axes>"
            ]
          },
          "metadata": {},
          "output_type": "display_data"
        },
        {
          "data": {
            "text/html": [
              "<pre style=\"white-space:pre;overflow-x:auto;line-height:normal;font-family:Menlo,'DejaVu Sans Mono',consolas,'Courier New',monospace\"><span style=\"font-weight: bold\">Model: \"functional\"</span>\n",
              "</pre>\n"
            ],
            "text/plain": [
              "\u001b[1mModel: \"functional\"\u001b[0m\n"
            ]
          },
          "metadata": {},
          "output_type": "display_data"
        },
        {
          "data": {
            "text/html": [
              "<pre style=\"white-space:pre;overflow-x:auto;line-height:normal;font-family:Menlo,'DejaVu Sans Mono',consolas,'Courier New',monospace\">┏━━━━━━━━━━━━━━━━━━━━━┳━━━━━━━━━━━━━━━━━━━┳━━━━━━━━━━━━┳━━━━━━━━━━━━━━━━━━━┓\n",
              "┃<span style=\"font-weight: bold\"> Layer (type)        </span>┃<span style=\"font-weight: bold\"> Output Shape      </span>┃<span style=\"font-weight: bold\">    Param # </span>┃<span style=\"font-weight: bold\"> Connected to      </span>┃\n",
              "┡━━━━━━━━━━━━━━━━━━━━━╇━━━━━━━━━━━━━━━━━━━╇━━━━━━━━━━━━╇━━━━━━━━━━━━━━━━━━━┩\n",
              "│ encoder_input       │ (<span style=\"color: #00d7ff; text-decoration-color: #00d7ff\">None</span>, <span style=\"color: #00af00; text-decoration-color: #00af00\">225</span>)       │          <span style=\"color: #00af00; text-decoration-color: #00af00\">0</span> │ -                 │\n",
              "│ (<span style=\"color: #0087ff; text-decoration-color: #0087ff\">InputLayer</span>)        │                   │            │                   │\n",
              "├─────────────────────┼───────────────────┼────────────┼───────────────────┤\n",
              "│ decoder_input       │ (<span style=\"color: #00d7ff; text-decoration-color: #00d7ff\">None</span>, <span style=\"color: #00af00; text-decoration-color: #00af00\">49</span>)        │          <span style=\"color: #00af00; text-decoration-color: #00af00\">0</span> │ -                 │\n",
              "│ (<span style=\"color: #0087ff; text-decoration-color: #0087ff\">InputLayer</span>)        │                   │            │                   │\n",
              "├─────────────────────┼───────────────────┼────────────┼───────────────────┤\n",
              "│ encoder_embedding   │ (<span style=\"color: #00d7ff; text-decoration-color: #00d7ff\">None</span>, <span style=\"color: #00af00; text-decoration-color: #00af00\">225</span>, <span style=\"color: #00af00; text-decoration-color: #00af00\">128</span>)  │    <span style=\"color: #00af00; text-decoration-color: #00af00\">640,000</span> │ encoder_input[<span style=\"color: #00af00; text-decoration-color: #00af00\">0</span>]… │\n",
              "│ (<span style=\"color: #0087ff; text-decoration-color: #0087ff\">Embedding</span>)         │                   │            │                   │\n",
              "├─────────────────────┼───────────────────┼────────────┼───────────────────┤\n",
              "│ not_equal           │ (<span style=\"color: #00d7ff; text-decoration-color: #00d7ff\">None</span>, <span style=\"color: #00af00; text-decoration-color: #00af00\">225</span>)       │          <span style=\"color: #00af00; text-decoration-color: #00af00\">0</span> │ encoder_input[<span style=\"color: #00af00; text-decoration-color: #00af00\">0</span>]… │\n",
              "│ (<span style=\"color: #0087ff; text-decoration-color: #0087ff\">NotEqual</span>)          │                   │            │                   │\n",
              "├─────────────────────┼───────────────────┼────────────┼───────────────────┤\n",
              "│ decoder_embedding   │ (<span style=\"color: #00d7ff; text-decoration-color: #00d7ff\">None</span>, <span style=\"color: #00af00; text-decoration-color: #00af00\">49</span>, <span style=\"color: #00af00; text-decoration-color: #00af00\">128</span>)   │    <span style=\"color: #00af00; text-decoration-color: #00af00\">640,000</span> │ decoder_input[<span style=\"color: #00af00; text-decoration-color: #00af00\">0</span>]… │\n",
              "│ (<span style=\"color: #0087ff; text-decoration-color: #0087ff\">Embedding</span>)         │                   │            │                   │\n",
              "├─────────────────────┼───────────────────┼────────────┼───────────────────┤\n",
              "│ encoder_lstm (<span style=\"color: #0087ff; text-decoration-color: #0087ff\">LSTM</span>) │ [(<span style=\"color: #00d7ff; text-decoration-color: #00d7ff\">None</span>, <span style=\"color: #00af00; text-decoration-color: #00af00\">256</span>),     │    <span style=\"color: #00af00; text-decoration-color: #00af00\">394,240</span> │ encoder_embeddin… │\n",
              "│                     │ (<span style=\"color: #00d7ff; text-decoration-color: #00d7ff\">None</span>, <span style=\"color: #00af00; text-decoration-color: #00af00\">256</span>),      │            │ not_equal[<span style=\"color: #00af00; text-decoration-color: #00af00\">0</span>][<span style=\"color: #00af00; text-decoration-color: #00af00\">0</span>]   │\n",
              "│                     │ (<span style=\"color: #00d7ff; text-decoration-color: #00d7ff\">None</span>, <span style=\"color: #00af00; text-decoration-color: #00af00\">256</span>)]      │            │                   │\n",
              "├─────────────────────┼───────────────────┼────────────┼───────────────────┤\n",
              "│ decoder_lstm (<span style=\"color: #0087ff; text-decoration-color: #0087ff\">LSTM</span>) │ [(<span style=\"color: #00d7ff; text-decoration-color: #00d7ff\">None</span>, <span style=\"color: #00af00; text-decoration-color: #00af00\">49</span>, <span style=\"color: #00af00; text-decoration-color: #00af00\">256</span>), │    <span style=\"color: #00af00; text-decoration-color: #00af00\">394,240</span> │ decoder_embeddin… │\n",
              "│                     │ (<span style=\"color: #00d7ff; text-decoration-color: #00d7ff\">None</span>, <span style=\"color: #00af00; text-decoration-color: #00af00\">256</span>),      │            │ encoder_lstm[<span style=\"color: #00af00; text-decoration-color: #00af00\">0</span>][<span style=\"color: #00af00; text-decoration-color: #00af00\">…</span> │\n",
              "│                     │ (<span style=\"color: #00d7ff; text-decoration-color: #00d7ff\">None</span>, <span style=\"color: #00af00; text-decoration-color: #00af00\">256</span>)]      │            │ encoder_lstm[<span style=\"color: #00af00; text-decoration-color: #00af00\">0</span>][<span style=\"color: #00af00; text-decoration-color: #00af00\">…</span> │\n",
              "├─────────────────────┼───────────────────┼────────────┼───────────────────┤\n",
              "│ decoder_output      │ (<span style=\"color: #00d7ff; text-decoration-color: #00d7ff\">None</span>, <span style=\"color: #00af00; text-decoration-color: #00af00\">49</span>, <span style=\"color: #00af00; text-decoration-color: #00af00\">5000</span>)  │  <span style=\"color: #00af00; text-decoration-color: #00af00\">1,285,000</span> │ decoder_lstm[<span style=\"color: #00af00; text-decoration-color: #00af00\">0</span>][<span style=\"color: #00af00; text-decoration-color: #00af00\">…</span> │\n",
              "│ (<span style=\"color: #0087ff; text-decoration-color: #0087ff\">Dense</span>)             │                   │            │                   │\n",
              "└─────────────────────┴───────────────────┴────────────┴───────────────────┘\n",
              "</pre>\n"
            ],
            "text/plain": [
              "┏━━━━━━━━━━━━━━━━━━━━━┳━━━━━━━━━━━━━━━━━━━┳━━━━━━━━━━━━┳━━━━━━━━━━━━━━━━━━━┓\n",
              "┃\u001b[1m \u001b[0m\u001b[1mLayer (type)       \u001b[0m\u001b[1m \u001b[0m┃\u001b[1m \u001b[0m\u001b[1mOutput Shape     \u001b[0m\u001b[1m \u001b[0m┃\u001b[1m \u001b[0m\u001b[1m   Param #\u001b[0m\u001b[1m \u001b[0m┃\u001b[1m \u001b[0m\u001b[1mConnected to     \u001b[0m\u001b[1m \u001b[0m┃\n",
              "┡━━━━━━━━━━━━━━━━━━━━━╇━━━━━━━━━━━━━━━━━━━╇━━━━━━━━━━━━╇━━━━━━━━━━━━━━━━━━━┩\n",
              "│ encoder_input       │ (\u001b[38;5;45mNone\u001b[0m, \u001b[38;5;34m225\u001b[0m)       │          \u001b[38;5;34m0\u001b[0m │ -                 │\n",
              "│ (\u001b[38;5;33mInputLayer\u001b[0m)        │                   │            │                   │\n",
              "├─────────────────────┼───────────────────┼────────────┼───────────────────┤\n",
              "│ decoder_input       │ (\u001b[38;5;45mNone\u001b[0m, \u001b[38;5;34m49\u001b[0m)        │          \u001b[38;5;34m0\u001b[0m │ -                 │\n",
              "│ (\u001b[38;5;33mInputLayer\u001b[0m)        │                   │            │                   │\n",
              "├─────────────────────┼───────────────────┼────────────┼───────────────────┤\n",
              "│ encoder_embedding   │ (\u001b[38;5;45mNone\u001b[0m, \u001b[38;5;34m225\u001b[0m, \u001b[38;5;34m128\u001b[0m)  │    \u001b[38;5;34m640,000\u001b[0m │ encoder_input[\u001b[38;5;34m0\u001b[0m]… │\n",
              "│ (\u001b[38;5;33mEmbedding\u001b[0m)         │                   │            │                   │\n",
              "├─────────────────────┼───────────────────┼────────────┼───────────────────┤\n",
              "│ not_equal           │ (\u001b[38;5;45mNone\u001b[0m, \u001b[38;5;34m225\u001b[0m)       │          \u001b[38;5;34m0\u001b[0m │ encoder_input[\u001b[38;5;34m0\u001b[0m]… │\n",
              "│ (\u001b[38;5;33mNotEqual\u001b[0m)          │                   │            │                   │\n",
              "├─────────────────────┼───────────────────┼────────────┼───────────────────┤\n",
              "│ decoder_embedding   │ (\u001b[38;5;45mNone\u001b[0m, \u001b[38;5;34m49\u001b[0m, \u001b[38;5;34m128\u001b[0m)   │    \u001b[38;5;34m640,000\u001b[0m │ decoder_input[\u001b[38;5;34m0\u001b[0m]… │\n",
              "│ (\u001b[38;5;33mEmbedding\u001b[0m)         │                   │            │                   │\n",
              "├─────────────────────┼───────────────────┼────────────┼───────────────────┤\n",
              "│ encoder_lstm (\u001b[38;5;33mLSTM\u001b[0m) │ [(\u001b[38;5;45mNone\u001b[0m, \u001b[38;5;34m256\u001b[0m),     │    \u001b[38;5;34m394,240\u001b[0m │ encoder_embeddin… │\n",
              "│                     │ (\u001b[38;5;45mNone\u001b[0m, \u001b[38;5;34m256\u001b[0m),      │            │ not_equal[\u001b[38;5;34m0\u001b[0m][\u001b[38;5;34m0\u001b[0m]   │\n",
              "│                     │ (\u001b[38;5;45mNone\u001b[0m, \u001b[38;5;34m256\u001b[0m)]      │            │                   │\n",
              "├─────────────────────┼───────────────────┼────────────┼───────────────────┤\n",
              "│ decoder_lstm (\u001b[38;5;33mLSTM\u001b[0m) │ [(\u001b[38;5;45mNone\u001b[0m, \u001b[38;5;34m49\u001b[0m, \u001b[38;5;34m256\u001b[0m), │    \u001b[38;5;34m394,240\u001b[0m │ decoder_embeddin… │\n",
              "│                     │ (\u001b[38;5;45mNone\u001b[0m, \u001b[38;5;34m256\u001b[0m),      │            │ encoder_lstm[\u001b[38;5;34m0\u001b[0m][\u001b[38;5;34m…\u001b[0m │\n",
              "│                     │ (\u001b[38;5;45mNone\u001b[0m, \u001b[38;5;34m256\u001b[0m)]      │            │ encoder_lstm[\u001b[38;5;34m0\u001b[0m][\u001b[38;5;34m…\u001b[0m │\n",
              "├─────────────────────┼───────────────────┼────────────┼───────────────────┤\n",
              "│ decoder_output      │ (\u001b[38;5;45mNone\u001b[0m, \u001b[38;5;34m49\u001b[0m, \u001b[38;5;34m5000\u001b[0m)  │  \u001b[38;5;34m1,285,000\u001b[0m │ decoder_lstm[\u001b[38;5;34m0\u001b[0m][\u001b[38;5;34m…\u001b[0m │\n",
              "│ (\u001b[38;5;33mDense\u001b[0m)             │                   │            │                   │\n",
              "└─────────────────────┴───────────────────┴────────────┴───────────────────┘\n"
            ]
          },
          "metadata": {},
          "output_type": "display_data"
        },
        {
          "data": {
            "text/html": [
              "<pre style=\"white-space:pre;overflow-x:auto;line-height:normal;font-family:Menlo,'DejaVu Sans Mono',consolas,'Courier New',monospace\"><span style=\"font-weight: bold\"> Total params: </span><span style=\"color: #00af00; text-decoration-color: #00af00\">10,060,442</span> (38.38 MB)\n",
              "</pre>\n"
            ],
            "text/plain": [
              "\u001b[1m Total params: \u001b[0m\u001b[38;5;34m10,060,442\u001b[0m (38.38 MB)\n"
            ]
          },
          "metadata": {},
          "output_type": "display_data"
        },
        {
          "data": {
            "text/html": [
              "<pre style=\"white-space:pre;overflow-x:auto;line-height:normal;font-family:Menlo,'DejaVu Sans Mono',consolas,'Courier New',monospace\"><span style=\"font-weight: bold\"> Trainable params: </span><span style=\"color: #00af00; text-decoration-color: #00af00\">3,353,480</span> (12.79 MB)\n",
              "</pre>\n"
            ],
            "text/plain": [
              "\u001b[1m Trainable params: \u001b[0m\u001b[38;5;34m3,353,480\u001b[0m (12.79 MB)\n"
            ]
          },
          "metadata": {},
          "output_type": "display_data"
        },
        {
          "data": {
            "text/html": [
              "<pre style=\"white-space:pre;overflow-x:auto;line-height:normal;font-family:Menlo,'DejaVu Sans Mono',consolas,'Courier New',monospace\"><span style=\"font-weight: bold\"> Non-trainable params: </span><span style=\"color: #00af00; text-decoration-color: #00af00\">0</span> (0.00 B)\n",
              "</pre>\n"
            ],
            "text/plain": [
              "\u001b[1m Non-trainable params: \u001b[0m\u001b[38;5;34m0\u001b[0m (0.00 B)\n"
            ]
          },
          "metadata": {},
          "output_type": "display_data"
        },
        {
          "data": {
            "text/html": [
              "<pre style=\"white-space:pre;overflow-x:auto;line-height:normal;font-family:Menlo,'DejaVu Sans Mono',consolas,'Courier New',monospace\"><span style=\"font-weight: bold\"> Optimizer params: </span><span style=\"color: #00af00; text-decoration-color: #00af00\">6,706,962</span> (25.59 MB)\n",
              "</pre>\n"
            ],
            "text/plain": [
              "\u001b[1m Optimizer params: \u001b[0m\u001b[38;5;34m6,706,962\u001b[0m (25.59 MB)\n"
            ]
          },
          "metadata": {},
          "output_type": "display_data"
        }
      ],
      "source": [
        "import numpy as np\n",
        "import tensorflow as tf\n",
        "from tensorflow.keras.preprocessing.text import Tokenizer\n",
        "from tensorflow.keras.preprocessing.sequence import pad_sequences\n",
        "from tensorflow.keras.models import Model\n",
        "from tensorflow.keras.layers import Input, LSTM, Embedding, Dense\n",
        "from sklearn.model_selection import train_test_split\n",
        "\n",
        "# Define vocabulary size (Limit to reduce memory usage)\n",
        "VOCAB_SIZE = 5000\n",
        "EMBEDDING_DIM = 128  # Smaller embedding size reduces memory load\n",
        "\n",
        "# Tokenization\n",
        "dialogue_tokenizer = Tokenizer(num_words=VOCAB_SIZE, oov_token=\"<OOV>\")\n",
        "dialogue_tokenizer.fit_on_texts(data['dialogue'])\n",
        "\n",
        "summary_tokenizer = Tokenizer(num_words=VOCAB_SIZE, oov_token=\"<OOV>\")\n",
        "summary_tokenizer.fit_on_texts(data['summary'])\n",
        "\n",
        "# Convert text to sequences of integers\n",
        "dialogue_sequences = dialogue_tokenizer.texts_to_sequences(data['dialogue'])\n",
        "summary_sequences = summary_tokenizer.texts_to_sequences(data['summary'])\n",
        "\n",
        "# Define max lengths (Adjust based on dataset)\n",
        "MAX_LEN_DIALOGUE = 225  # Fixed length for consistency\n",
        "MAX_LEN_SUMMARY = 50\n",
        "\n",
        "# Pad sequences\n",
        "X_padded = pad_sequences(dialogue_sequences, maxlen=MAX_LEN_DIALOGUE, padding='post')\n",
        "y_padded = pad_sequences(summary_sequences, maxlen=MAX_LEN_SUMMARY, padding='post')\n",
        "\n",
        "# Split dataset\n",
        "X_train, X_test, y_train, y_test = train_test_split(X_padded, y_padded, test_size=0.3, random_state=42)\n",
        "\n",
        "# Define LSTM Model with Embeddings\n",
        "latent_dim = 256\n",
        "\n",
        "# Encoder\n",
        "encoder_inputs = Input(shape=(MAX_LEN_DIALOGUE,), name=\"encoder_input\")\n",
        "encoder_embedding = Embedding(VOCAB_SIZE, EMBEDDING_DIM, mask_zero=True, name=\"encoder_embedding\")(encoder_inputs)\n",
        "encoder_lstm, state_h, state_c = LSTM(latent_dim, return_state=True, name=\"encoder_lstm\")(encoder_embedding)\n",
        "encoder_states = [state_h, state_c]\n",
        "\n",
        "# Decoder\n",
        "decoder_inputs = Input(shape=(MAX_LEN_SUMMARY - 1,), name=\"decoder_input\")  # Shifted left for training\n",
        "decoder_embedding = Embedding(VOCAB_SIZE, EMBEDDING_DIM, mask_zero=True, name=\"decoder_embedding\")(decoder_inputs)\n",
        "decoder_lstm = LSTM(latent_dim, return_sequences=True, return_state=True, name=\"decoder_lstm\")\n",
        "decoder_outputs, _, _ = decoder_lstm(decoder_embedding, initial_state=encoder_states)\n",
        "decoder_dense = Dense(VOCAB_SIZE, activation='softmax', name=\"decoder_output\")\n",
        "decoder_outputs = decoder_dense(decoder_outputs)\n",
        "\n",
        "# Define model\n",
        "model = Model([encoder_inputs, decoder_inputs], decoder_outputs)\n",
        "model.compile(optimizer='adam', loss='sparse_categorical_crossentropy', metrics=['accuracy'])\n",
        "\n",
        "# Train model\n",
        "history = model.fit([X_train, y_train[:, :-1]], y_train[:, 1:],  # Shift decoder target\n",
        "                    batch_size=64,\n",
        "                    epochs=50,\n",
        "                    validation_split=0.1)\n",
        "\n",
        "# Plot accuracy per epoch\n",
        "import matplotlib.pyplot as plt\n",
        "\n",
        "plt.plot(history.history['accuracy'], label='Train Accuracy')\n",
        "plt.plot(history.history['val_accuracy'], label='Validation Accuracy')\n",
        "plt.xlabel('Epochs')\n",
        "plt.ylabel('Accuracy')\n",
        "plt.legend()\n",
        "plt.title('Training and Validation Accuracy per Epoch')\n",
        "plt.show()\n",
        "\n",
        "# Display model summary\n",
        "model.summary()\n"
      ]
    },
    {
      "cell_type": "markdown",
      "metadata": {
        "id": "wIDiII-VKO8h"
      },
      "source": [
        "# Part-3 BERT Models from Hugging Face\n"
      ]
    },
    {
      "cell_type": "markdown",
      "metadata": {},
      "source": [
        "### Model 1: \n",
        "#### Overview\n",
        "🔹 **Full Name:**\n",
        "facebook/bart-large-cnn\n",
        "\n",
        "🔹 **Base Model:**\n",
        "BART (Bidirectional and Auto-Regressive Transformer)\n",
        "\n",
        "🔹 **Fine-tuned On:**\n",
        "CNN/DailyMail News Dataset\n",
        "\n",
        "🔹 **Task:**\n",
        "Abstractive Summarization\n",
        "(Generates summaries that paraphrase content rather than extract exact sentences)\n",
        "\n",
        "🔹 **Developer:**\n",
        "Facebook AI\n",
        "\n",
        "#### Architecture\n",
        "🔸 **Type:**\n",
        "Sequence-to-Sequence (Encoder–Decoder Transformer)\n",
        "\n",
        "🔸 **Encoder:**\n",
        "Inspired by BERT\n",
        "→ Bidirectional context understanding\n",
        "\n",
        "🔸 **Decoder:**\n",
        "Inspired by GPT\n",
        "→ Auto-regressive generation\n",
        "\n",
        "🔸 **Pretraining Objective:**\n",
        "\n",
        "Denoising Autoencoding\n",
        "(Learn to reconstruct corrupted text)\n",
        "\n",
        "Masked text infilling\n",
        "\n",
        "Sentence permutation\n",
        "\n"
      ]
    },
    {
      "cell_type": "code",
      "execution_count": 8,
      "metadata": {
        "colab": {
          "base_uri": "https://localhost:8080/"
        },
        "id": "Pg2WrgBHKO8h",
        "outputId": "8dbd5358-f122-4ea8-cd01-4ce0b536231a"
      },
      "outputs": [
        {
          "name": "stderr",
          "output_type": "stream",
          "text": [
            "Device set to use cpu\n"
          ]
        }
      ],
      "source": [
        "from transformers import pipeline\n",
        "\n",
        "text_summarizer1 = pipeline(\"summarization\", model=\"facebook/bart-large-cnn\")\n"
      ]
    },
    {
      "cell_type": "code",
      "execution_count": 16,
      "metadata": {
        "id": "tzPImWVKKO8i"
      },
      "outputs": [],
      "source": [
        "dialogue = \"\"\"Madeline: Hey, the smog is so bad today.\n",
        "Josephine: Hey, tell me about it, I just went grocery shopping.\n",
        "Josephine: And I came back with a terrible cough.\n",
        "Madeline: You shouldn't even leave the house today.\n",
        "Madeline: Or open the windows!\n",
        "Josephine: Ugh, this is dreadful.\n",
        "Josephine: Ppl really have to stop using plastic & other crap to heat their houses.\n",
        "Madeline: I know, they should send more patrols to control them.\n",
        "Josephine: We're killing our environment.\n",
        "Madeline: And eventually ourselves!\n",
        "Josephine: I'm looking into buying one of those special anti-smog masks b/c my scarf is no longer helping...\n",
        "Madeline: I've already got one. It works well and I'm not coughing lately.\n",
        "Josephine: Enjoy another day locked in.\n",
        "Madeline: Likewise, take care.\n",
        "Madeline: See you when the wind blows the smog away!\"\"\"\n",
        "\n",
        "\n"
      ]
    },
    {
      "cell_type": "code",
      "execution_count": 11,
      "metadata": {
        "colab": {
          "base_uri": "https://localhost:8080/"
        },
        "id": "Eruo6Wuxff4Z",
        "outputId": "7571e503-43c3-418e-9b09-8cd51f8550c2"
      },
      "outputs": [
        {
          "name": "stdout",
          "output_type": "stream",
          "text": [
            "[{'summary_text': \"Josephine: Ppl really have to stop using plastic & other crap to heat their houses. Madeline: You shouldn't even leave the house today.\"}]\n"
          ]
        }
      ],
      "source": [
        "bert_summary1 = text_summarizer1(dialogue, max_length=80, min_length=10, do_sample=False)\n",
        "print(bert_summary1)\n"
      ]
    },
    {
      "cell_type": "markdown",
      "metadata": {},
      "source": [
        "### Model 2: \n",
        "#### Overview\n",
        "🔹 **Full Name:**\n",
        "philschmid/bart-large-cnn-samsum\n",
        "\n",
        "🔹 **Base Model:**\n",
        "BART (Bidirectional and Auto-Regressive Transformer)\n",
        "\n",
        "🔹 **Fine-tuned On:**\n",
        "SAMSum Dataset (Dialogue Summarization)\n",
        "\n",
        "🔹 **Task:**\n",
        "Abstractive Summarization\n",
        "(Generates concise summaries for dialogues)\n",
        "\n",
        "🔹 **Developer:**\n",
        "Philipp Schmid\n",
        "\n",
        "#### Architecture\n",
        "🔸 **Type:***\n",
        "Sequence-to-Sequence (Encoder–Decoder Transformer)\n",
        "\n",
        "🔸 **Encoder:**\n",
        "Similar to BERT (Bidirectional)\n",
        "\n",
        "🔸 **Decoder:**\n",
        "Similar to GPT (Auto-regressive)\n",
        "\n",
        "🔸 **Pretraining Objective:**\n",
        "Denoising Autoencoding\n",
        "\n",
        "Masked text infilling\n",
        "\n",
        "Sentence permutation\n",
        "\n",
        "🔸 **Fine-tuning Objective:**\n",
        "Optimized for Dialogue Summarization using the SAMSum dataset"
      ]
    },
    {
      "cell_type": "code",
      "execution_count": 12,
      "metadata": {
        "colab": {
          "base_uri": "https://localhost:8080/"
        },
        "id": "WiBLKXCrKO8i",
        "outputId": "7d506069-1bdf-4cea-eea7-aa5aaeddb5c5"
      },
      "outputs": [
        {
          "name": "stderr",
          "output_type": "stream",
          "text": [
            "Device set to use cpu\n"
          ]
        },
        {
          "name": "stdout",
          "output_type": "stream",
          "text": [
            "[{'summary_text': \"The smog is bad today. Josephine went grocery shopping and came back with a terrible cough. She's considering buying an anti-smog mask. Madeline has one and it works well.\"}]\n"
          ]
        }
      ],
      "source": [
        "text_summarizer2 = pipeline(\"summarization\", model=\"philschmid/bart-large-cnn-samsum\")\n",
        "\n",
        "bert_summary2 = text_summarizer2(dialogue, max_length=80, min_length=10, do_sample=False)\n",
        "print(bert_summary2)"
      ]
    },
    {
      "cell_type": "markdown",
      "metadata": {
        "id": "t4HZdESGgdUR"
      },
      "source": [
        "### ROUGE-1"
      ]
    },
    {
      "cell_type": "markdown",
      "metadata": {
        "id": "BbqfBHdfhXSp"
      },
      "source": [
        "### Prediction for LSTM Model"
      ]
    },
    {
      "cell_type": "code",
      "execution_count": null,
      "metadata": {},
      "outputs": [],
      "source": [
        "def generate_summary_lstm(dialogue_text, dialogue_tokenizer, summary_tokenizer, model, MAX_LEN_DIALOGUE, MAX_LEN_SUMMARY):\n",
        "    dialogue_sequence = dialogue_tokenizer.texts_to_sequences([dialogue_text])\n",
        "    dialogue_padded = pad_sequences(dialogue_sequence, maxlen=MAX_LEN_DIALOGUE, padding='post')\n",
        "\n",
        "    # Get the <start> token index from summary tokenizer\n",
        "    start_token = summary_tokenizer.word_index.get('<start>', 1)\n",
        "    target_seq = [start_token]\n",
        "\n",
        "    decoded_sentence = ''\n",
        "\n",
        "    for _ in range(MAX_LEN_SUMMARY):\n",
        "        target_seq_padded = pad_sequences([target_seq], maxlen=MAX_LEN_SUMMARY - 1, padding='post')\n",
        "\n",
        "        output_tokens = model.predict([dialogue_padded, target_seq_padded], verbose=0)\n",
        "        sampled_token_index = np.argmax(output_tokens[0, 0, :])  # Always take first timestep\n",
        "\n",
        "        sampled_word = summary_tokenizer.index_word.get(sampled_token_index, '')\n",
        "\n",
        "        if sampled_word == '<end>' or sampled_word == '' or sampled_token_index == 0:\n",
        "            break\n",
        "\n",
        "        decoded_sentence += ' ' + sampled_word\n",
        "        target_seq.append(sampled_token_index)\n",
        "\n",
        "    return decoded_sentence.strip()\n"
      ]
    },
    {
      "cell_type": "code",
      "execution_count": 23,
      "metadata": {},
      "outputs": [
        {
          "name": "stdout",
          "output_type": "stream",
          "text": [
            "Generated Summary:\n",
            " want want want want want want want want want want want want want want want want want want want want want want want want want want want want want want want want want want want want want want want want want want want want want want want want want buy\n"
          ]
        }
      ],
      "source": [
        "# Define your dialogue input\n",
        "dialogue = \"\"\"Madeline: Hey, the smog is so bad today.\n",
        "Josephine: Hey, tell me about it, I just went grocery shopping.\n",
        "Josephine: And I came back with a terrible cough.\n",
        "Madeline: You shouldn't even leave the house today.\n",
        "Madeline: Or open the windows!\n",
        "Josephine: Ugh, this is dreadful.\n",
        "Josephine: Ppl really have to stop using plastic & other crap to heat their houses.\n",
        "Madeline: I know, they should send more patrols to control them.\n",
        "Josephine: We're killing our environment.\n",
        "Madeline: And eventually ourselves!\n",
        "Josephine: I'm looking into buying one of those special anti-smog masks b/c my scarf is no longer helping...\n",
        "Madeline: I've already got one. It works well and I'm not coughing lately.\n",
        "Josephine: Enjoy another day locked in.\n",
        "Madeline: Likewise, take care.\n",
        "Madeline: See you when the wind blows the smog away!\"\"\"\n",
        "\n",
        "# Generate the summary\n",
        "summary = generate_summary_lstm(dialogue, dialogue_tokenizer, summary_tokenizer, model, MAX_LEN_DIALOGUE, MAX_LEN_SUMMARY)\n",
        "\n",
        "# Print the summary\n",
        "print(\"Generated Summary:\\n\", summary)\n"
      ]
    },
    {
      "cell_type": "code",
      "execution_count": 20,
      "metadata": {
        "id": "o49tNSQ8haxu"
      },
      "outputs": [],
      "source": [
        "# Function to generate summary from dialogue using the trained LSTM model\n",
        "def generate_summary_lstm(dialogue_text, dialogue_tokenizer, summary_tokenizer, model, MAX_LEN_DIALOGUE, MAX_LEN_SUMMARY):\n",
        "    # 1. Tokenize and pad the input dialogue\n",
        "    dialogue_sequence = dialogue_tokenizer.texts_to_sequences([dialogue_text])\n",
        "    dialogue_padded = pad_sequences(dialogue_sequence, maxlen=MAX_LEN_DIALOGUE, padding='post')\n",
        "\n",
        "    # 2. Initialize the decoder input with the start token (assuming '<start>' is your start token)\n",
        "    # Use the actual start token from your summary tokenizer's word index\n",
        "    start_token = dialogue_tokenizer.word_index.get('<start>', 1)  # Get index of '<start>', default to 1 if not found\n",
        "    target_seq = [start_token]\n",
        "\n",
        "    # 3. Generate summary word by word\n",
        "    decoded_sentence = ''\n",
        "    for i in range(MAX_LEN_SUMMARY):\n",
        "        # Pad the target sequence\n",
        "        target_seq_padded = pad_sequences([target_seq], maxlen=MAX_LEN_SUMMARY - 1, padding='post')\n",
        "\n",
        "        # Predict the next word\n",
        "        output_tokens = model.predict([dialogue_padded, target_seq_padded])\n",
        "        sampled_token_index = np.argmax(output_tokens[0, i, :])\n",
        "\n",
        "        # Convert the token index to a word\n",
        "        sampled_word = summary_tokenizer.index_word.get(sampled_token_index, '') # Use get to avoid KeyError\n",
        "\n",
        "        # Stop if we hit the end token or padding\n",
        "        if sampled_word == '<end>' or sampled_word == '' or sampled_token_index == 0:  # Assuming '<end>' or empty string is your end token\n",
        "            break\n",
        "\n",
        "        # Add the word to the decoded sentence\n",
        "        decoded_sentence += ' ' + sampled_word\n",
        "\n",
        "        # Update the target sequence for the next prediction\n",
        "        target_seq.append(sampled_token_index)\n",
        "\n",
        "    return decoded_sentence.strip()"
      ]
    },
    {
      "cell_type": "code",
      "execution_count": 21,
      "metadata": {
        "colab": {
          "base_uri": "https://localhost:8080/"
        },
        "id": "2ZfOYg2ehlJz",
        "outputId": "b75628d2-1b7e-472e-8095-8e6f556392db"
      },
      "outputs": [
        {
          "name": "stdout",
          "output_type": "stream",
          "text": [
            "\u001b[1m1/1\u001b[0m \u001b[32m━━━━━━━━━━━━━━━━━━━━\u001b[0m\u001b[37m\u001b[0m \u001b[1m0s\u001b[0m 87ms/step\n",
            "\u001b[1m1/1\u001b[0m \u001b[32m━━━━━━━━━━━━━━━━━━━━\u001b[0m\u001b[37m\u001b[0m \u001b[1m0s\u001b[0m 82ms/step\n",
            "\u001b[1m1/1\u001b[0m \u001b[32m━━━━━━━━━━━━━━━━━━━━\u001b[0m\u001b[37m\u001b[0m \u001b[1m0s\u001b[0m 93ms/step\n",
            "\u001b[1m1/1\u001b[0m \u001b[32m━━━━━━━━━━━━━━━━━━━━\u001b[0m\u001b[37m\u001b[0m \u001b[1m0s\u001b[0m 78ms/step\n",
            "\u001b[1m1/1\u001b[0m \u001b[32m━━━━━━━━━━━━━━━━━━━━\u001b[0m\u001b[37m\u001b[0m \u001b[1m0s\u001b[0m 99ms/step\n",
            "\u001b[1m1/1\u001b[0m \u001b[32m━━━━━━━━━━━━━━━━━━━━\u001b[0m\u001b[37m\u001b[0m \u001b[1m0s\u001b[0m 77ms/step\n",
            "\u001b[1m1/1\u001b[0m \u001b[32m━━━━━━━━━━━━━━━━━━━━\u001b[0m\u001b[37m\u001b[0m \u001b[1m0s\u001b[0m 85ms/step\n",
            "\u001b[1m1/1\u001b[0m \u001b[32m━━━━━━━━━━━━━━━━━━━━\u001b[0m\u001b[37m\u001b[0m \u001b[1m0s\u001b[0m 79ms/step\n",
            "\u001b[1m1/1\u001b[0m \u001b[32m━━━━━━━━━━━━━━━━━━━━\u001b[0m\u001b[37m\u001b[0m \u001b[1m0s\u001b[0m 60ms/step\n",
            "\u001b[1m1/1\u001b[0m \u001b[32m━━━━━━━━━━━━━━━━━━━━\u001b[0m\u001b[37m\u001b[0m \u001b[1m0s\u001b[0m 116ms/step\n",
            "\u001b[1m1/1\u001b[0m \u001b[32m━━━━━━━━━━━━━━━━━━━━\u001b[0m\u001b[37m\u001b[0m \u001b[1m0s\u001b[0m 84ms/step\n",
            "\u001b[1m1/1\u001b[0m \u001b[32m━━━━━━━━━━━━━━━━━━━━\u001b[0m\u001b[37m\u001b[0m \u001b[1m0s\u001b[0m 79ms/step\n",
            "\u001b[1m1/1\u001b[0m \u001b[32m━━━━━━━━━━━━━━━━━━━━\u001b[0m\u001b[37m\u001b[0m \u001b[1m0s\u001b[0m 103ms/step\n",
            "\u001b[1m1/1\u001b[0m \u001b[32m━━━━━━━━━━━━━━━━━━━━\u001b[0m\u001b[37m\u001b[0m \u001b[1m0s\u001b[0m 104ms/step\n",
            "\u001b[1m1/1\u001b[0m \u001b[32m━━━━━━━━━━━━━━━━━━━━\u001b[0m\u001b[37m\u001b[0m \u001b[1m0s\u001b[0m 100ms/step\n",
            "\u001b[1m1/1\u001b[0m \u001b[32m━━━━━━━━━━━━━━━━━━━━\u001b[0m\u001b[37m\u001b[0m \u001b[1m0s\u001b[0m 101ms/step\n",
            "\u001b[1m1/1\u001b[0m \u001b[32m━━━━━━━━━━━━━━━━━━━━\u001b[0m\u001b[37m\u001b[0m \u001b[1m0s\u001b[0m 83ms/step\n",
            "\u001b[1m1/1\u001b[0m \u001b[32m━━━━━━━━━━━━━━━━━━━━\u001b[0m\u001b[37m\u001b[0m \u001b[1m0s\u001b[0m 84ms/step\n",
            "\u001b[1m1/1\u001b[0m \u001b[32m━━━━━━━━━━━━━━━━━━━━\u001b[0m\u001b[37m\u001b[0m \u001b[1m0s\u001b[0m 81ms/step\n",
            "\u001b[1m1/1\u001b[0m \u001b[32m━━━━━━━━━━━━━━━━━━━━\u001b[0m\u001b[37m\u001b[0m \u001b[1m0s\u001b[0m 85ms/step\n",
            "\u001b[1m1/1\u001b[0m \u001b[32m━━━━━━━━━━━━━━━━━━━━\u001b[0m\u001b[37m\u001b[0m \u001b[1m0s\u001b[0m 85ms/step\n",
            "\u001b[1m1/1\u001b[0m \u001b[32m━━━━━━━━━━━━━━━━━━━━\u001b[0m\u001b[37m\u001b[0m \u001b[1m0s\u001b[0m 94ms/step\n",
            "\u001b[1m1/1\u001b[0m \u001b[32m━━━━━━━━━━━━━━━━━━━━\u001b[0m\u001b[37m\u001b[0m \u001b[1m0s\u001b[0m 168ms/step\n",
            "\u001b[1m1/1\u001b[0m \u001b[32m━━━━━━━━━━━━━━━━━━━━\u001b[0m\u001b[37m\u001b[0m \u001b[1m0s\u001b[0m 85ms/step\n",
            "\u001b[1m1/1\u001b[0m \u001b[32m━━━━━━━━━━━━━━━━━━━━\u001b[0m\u001b[37m\u001b[0m \u001b[1m0s\u001b[0m 92ms/step\n",
            "\u001b[1m1/1\u001b[0m \u001b[32m━━━━━━━━━━━━━━━━━━━━\u001b[0m\u001b[37m\u001b[0m \u001b[1m0s\u001b[0m 96ms/step\n",
            "ROUGE-1 for LSTM Summary: 0.0\n",
            "ROUGE-1 for BERT Summary 1: 0.15\n",
            "ROUGE-1 for BERT Summary 2: 0.7083333333333333\n"
          ]
        }
      ],
      "source": [
        "from rouge_score import rouge_scorer\n",
        "\n",
        "def calculate_rouge1(predicted_summary, true_summary):\n",
        "    scorer = rouge_scorer.RougeScorer(['rouge1'], use_stemmer=True)\n",
        "    # Access the 'summary_text' from the list of dictionaries (assuming this is the structure)\n",
        "    predicted_summary_text = predicted_summary[0]['summary_text'] if isinstance(predicted_summary, list) and predicted_summary else predicted_summary\n",
        "    scores = scorer.score(true_summary, predicted_summary_text)  # Pass the extracted text\n",
        "    return scores['rouge1'].fmeasure  # We'll use the F1-score for ROUGE-1\n",
        "\n",
        "# True Summary\n",
        "true_summary = \"The smog is bad today. Josephine went grocery shopping and she came back with a terrible cough.\"\n",
        "\n",
        "# Calculate ROUGE-1 scores\n",
        "rouge1_bert1 = calculate_rouge1(bert_summary1, true_summary)\n",
        "rouge1_bert2 = calculate_rouge1(bert_summary2, true_summary)\n",
        "\n",
        "# LSTM Summary\n",
        "dialogue_text = \"\"\"Madeline: Hey, the smog is so bad today.\n",
        "Josephine: Hey, tell me about it, I just went grocery shopping.\n",
        "Josephine: And I came back with a terrible cough.\n",
        "Madeline: You shouldn't even leave the house today.\n",
        "Madeline: Or open the windows!\n",
        "Josephine: Ugh, this is dreadful.\n",
        "Josephine: Ppl really have to stop using plastic & other crap to heat their houses.\n",
        "Madeline: I know, they should send more patrols to control them.\n",
        "Josephine: We're killing our environment.\n",
        "Madeline: And eventually ourselves!\n",
        "Josephine: I'm looking into buying one of those special anti-smog masks b/c my scarf is no longer helping...\n",
        "Madeline: I've already got one. It works well and I'm not coughing lately.\n",
        "Josephine: Enjoy another day locked in.\n",
        "Madeline: Likewise, take care.\n",
        "Madeline: See you when the wind blows the smog away!\"\"\"\n",
        "\n",
        "lstm_summary = generate_summary_lstm(dialogue_text, dialogue_tokenizer, summary_tokenizer, model, MAX_LEN_DIALOGUE, MAX_LEN_SUMMARY)\n",
        "\n",
        "# Calculate ROUGE-1 scores\n",
        "rouge1_lstm = calculate_rouge1(lstm_summary, true_summary)\n",
        "\n",
        "print(\"ROUGE-1 for LSTM Summary:\", rouge1_lstm)\n",
        "print(\"ROUGE-1 for BERT Summary 1:\", rouge1_bert1)\n",
        "print(\"ROUGE-1 for BERT Summary 2:\", rouge1_bert2)"
      ]
    },
    {
      "cell_type": "markdown",
      "metadata": {
        "id": "uny5iY8Sjrv8"
      },
      "source": [
        "### Conclusion\n",
        "Based on the ROUGE-1 scores obtained, we can observe the following:\n",
        "\n",
        "1. **BERT Models Outperform LSTM**: The BERT models (specifically bart-large-cnn-samsum) significantly outperform the LSTM model in terms of generating summaries that overlap with the true summary. This is evident from the much higher ROUGE-1 scores for BERT Summary 2 (0.708) compared to the LSTM Summary (0.0).\n",
        "\n",
        "2. **LSTM Model Struggles**: The LSTM model, despite the changes made, still fails to produce a summary that shares any significant content with the true summary. This indicates that the model has likely not learned to effectively capture the important information from the dialogue or translate it into a concise summary.\n",
        "\n",
        "3. **Data and Model Limitations**: This suggests potential limitations in either the data used to train the LSTM model or the model's architecture itself. It's possible that the vocabulary size, the complexity of the model, or the pre-processing steps are hindering its performance.\n",
        "\n",
        "4. **BERT's Strengths**: The bart-large-cnn-samsum model, on the other hand, demonstrates a much better understanding of dialogue summarization, possibly due to its pre-training on a large and diverse dataset and its more advanced architecture.\n",
        "\n",
        "\n",
        "In summary, while BERT models have shown promising results for dialogue summarization in this case, the LSTM model requires further adjustments and optimization to achieve comparable performance. It is recommended to focus on addressing the potential limitations identified in the hypothesis and exploring alternative approaches to improve its ability to generate meaningful summaries."
      ]
    }
  ],
  "metadata": {
    "colab": {
      "provenance": []
    },
    "kernelspec": {
      "display_name": "arkaV",
      "language": "python",
      "name": "python3"
    },
    "language_info": {
      "codemirror_mode": {
        "name": "ipython",
        "version": 3
      },
      "file_extension": ".py",
      "mimetype": "text/x-python",
      "name": "python",
      "nbconvert_exporter": "python",
      "pygments_lexer": "ipython3",
      "version": "3.12.10"
    }
  },
  "nbformat": 4,
  "nbformat_minor": 0
}
